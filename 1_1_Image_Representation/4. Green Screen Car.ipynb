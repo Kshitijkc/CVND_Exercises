{
  "nbformat": 4,
  "nbformat_minor": 0,
  "metadata": {
    "colab": {
      "name": "4. Green Screen Car.ipynb",
      "version": "0.3.2",
      "provenance": []
    },
    "kernelspec": {
      "display_name": "Python 3",
      "language": "python",
      "name": "python3"
    }
  },
  "cells": [
    {
      "metadata": {
        "id": "dLIP4wfbSp50",
        "colab_type": "text"
      },
      "cell_type": "markdown",
      "source": [
        "# Color Threshold, Green Screen"
      ]
    },
    {
      "metadata": {
        "id": "PqgR-8ylSukV",
        "colab_type": "code",
        "outputId": "d31f318d-54d5-4951-a675-0358ea5fdf29",
        "colab": {
          "base_uri": "https://localhost:8080/",
          "height": 158
        }
      },
      "cell_type": "code",
      "source": [
        "!git clone https://github.com/Kshitijkc/CVND_Exercises"
      ],
      "execution_count": 0,
      "outputs": [
        {
          "output_type": "stream",
          "text": [
            "Cloning into 'CVND_Exercises'...\n",
            "remote: Enumerating objects: 12, done.\u001b[K\n",
            "remote: Counting objects:   8% (1/12)   \u001b[K\rremote: Counting objects:  16% (2/12)   \u001b[K\rremote: Counting objects:  25% (3/12)   \u001b[K\rremote: Counting objects:  33% (4/12)   \u001b[K\rremote: Counting objects:  41% (5/12)   \u001b[K\rremote: Counting objects:  50% (6/12)   \u001b[K\rremote: Counting objects:  58% (7/12)   \u001b[K\rremote: Counting objects:  66% (8/12)   \u001b[K\rremote: Counting objects:  75% (9/12)   \u001b[K\rremote: Counting objects:  83% (10/12)   \u001b[K\rremote: Counting objects:  91% (11/12)   \u001b[K\rremote: Counting objects: 100% (12/12)   \u001b[K\rremote: Counting objects: 100% (12/12), done.\u001b[K\n",
            "remote: Compressing objects: 100% (12/12), done.\u001b[K\n",
            "remote: Total 780 (delta 4), reused 0 (delta 0), pack-reused 768\u001b[K\n",
            "Receiving objects: 100% (780/780), 135.10 MiB | 33.88 MiB/s, done.\n",
            "Resolving deltas: 100% (133/133), done.\n",
            "Checking out files: 100% (552/552), done.\n"
          ],
          "name": "stdout"
        }
      ]
    },
    {
      "metadata": {
        "id": "Kb1fT94lSp5-",
        "colab_type": "text"
      },
      "cell_type": "markdown",
      "source": [
        "### Import resources"
      ]
    },
    {
      "metadata": {
        "id": "jcA1rSp9Sp6A",
        "colab_type": "code",
        "colab": {}
      },
      "cell_type": "code",
      "source": [
        "import matplotlib.pyplot as plt\n",
        "import matplotlib.image as mpimg\n",
        "\n",
        "import numpy as np\n",
        "import cv2\n",
        "\n",
        "%matplotlib inline"
      ],
      "execution_count": 0,
      "outputs": []
    },
    {
      "metadata": {
        "id": "OrsbjLKhSp6O",
        "colab_type": "text"
      },
      "cell_type": "markdown",
      "source": [
        "### Read in and display the image"
      ]
    },
    {
      "metadata": {
        "scrolled": true,
        "id": "K57-yg7lSp6Q",
        "colab_type": "code",
        "outputId": "739f83f6-d2e1-4ba8-f3f1-cea02422c32e",
        "colab": {
          "base_uri": "https://localhost:8080/",
          "height": 34
        }
      },
      "cell_type": "code",
      "source": [
        "# Read in the image\n",
        "image = mpimg.imread('CVND_Exercises/1_1_Image_Representation/images/car_green_screen.jpg')\n",
        "\n",
        "# Print out the image dimensions (height, width, and depth (color))\n",
        "print('Image dimensions:', image.shape)\n"
      ],
      "execution_count": 0,
      "outputs": [
        {
          "output_type": "stream",
          "text": [
            "Image dimensions: (450, 660, 3)\n"
          ],
          "name": "stdout"
        }
      ]
    },
    {
      "metadata": {
        "id": "m2Jbq063Sp6W",
        "colab_type": "code",
        "outputId": "dbc6c7ec-61b8-405a-c369-14f512653778",
        "colab": {
          "base_uri": "https://localhost:8080/",
          "height": 286
        }
      },
      "cell_type": "code",
      "source": [
        "# Display the image\n",
        "plt.imshow(image)"
      ],
      "execution_count": 0,
      "outputs": [
        {
          "output_type": "execute_result",
          "data": {
            "text/plain": [
              "<matplotlib.image.AxesImage at 0x7f448ec48a90>"
            ]
          },
          "metadata": {
            "tags": []
          },
          "execution_count": 6
        },
        {
          "output_type": "display_data",
          "data": {
            "image/png": "[encoded data removed]",
            "text/plain": [
              "<matplotlib.figure.Figure at 0x7f448f3c3898>"
            ]
          },
          "metadata": {
            "tags": []
          }
        }
      ]
    },
    {
      "metadata": {
        "id": "IeXoYTNtSp6d",
        "colab_type": "text"
      },
      "cell_type": "markdown",
      "source": [
        "### Define the color threshold"
      ]
    },
    {
      "metadata": {
        "id": "yPaWbRtWSp6f",
        "colab_type": "code",
        "colab": {}
      },
      "cell_type": "code",
      "source": [
        "## TODO: Define our color selection boundaries in RGB values\n",
        "lower_green = np.array([0,0,0]) \n",
        "upper_green = np.array([255,255,255])\n"
      ],
      "execution_count": 0,
      "outputs": []
    },
    {
      "metadata": {
        "id": "mgY1LsEiSp6k",
        "colab_type": "text"
      },
      "cell_type": "markdown",
      "source": [
        "### Create a mask"
      ]
    },
    {
      "metadata": {
        "id": "PAXsorLNSp6m",
        "colab_type": "code",
        "outputId": "8f5856dc-11ea-4cd4-8001-14d57c6387b4",
        "colab": {
          "base_uri": "https://localhost:8080/",
          "height": 286
        }
      },
      "cell_type": "code",
      "source": [
        "# Define the masked area\n",
        "mask = cv2.inRange(image, lower_green, upper_green)\n",
        "\n",
        "# Vizualize the mask\n",
        "plt.imshow(mask, cmap='gray')"
      ],
      "execution_count": 0,
      "outputs": [
        {
          "output_type": "execute_result",
          "data": {
            "text/plain": [
              "<matplotlib.image.AxesImage at 0x7f448c3764a8>"
            ]
          },
          "metadata": {
            "tags": []
          },
          "execution_count": 8
        },
        {
          "output_type": "display_data",
          "data": {
            "image/png": "[encoded data removed]",
            "text/plain": [
              "<matplotlib.figure.Figure at 0x7f448ec1a320>"
            ]
          },
          "metadata": {
            "tags": []
          }
        }
      ]
    },
    {
      "metadata": {
        "id": "fz444UcWSp6w",
        "colab_type": "code",
        "outputId": "c4eef124-2254-460c-ab2c-3a995a787aef",
        "colab": {
          "base_uri": "https://localhost:8080/",
          "height": 286
        }
      },
      "cell_type": "code",
      "source": [
        "# Mask the image to let the car show through\n",
        "masked_image = np.copy(image)\n",
        "\n",
        "masked_image[mask != 0] = [0, 0, 0]\n",
        "\n",
        "# Display it!\n",
        "plt.imshow(masked_image)\n"
      ],
      "execution_count": 0,
      "outputs": [
        {
          "output_type": "execute_result",
          "data": {
            "text/plain": [
              "<matplotlib.image.AxesImage at 0x7f448c2e24a8>"
            ]
          },
          "metadata": {
            "tags": []
          },
          "execution_count": 9
        },
        {
          "output_type": "display_data",
          "data": {
            "image/png": "[encoded data removed]",
            "text/plain": [
              "<matplotlib.figure.Figure at 0x7f448c384eb8>"
            ]
          },
          "metadata": {
            "tags": []
          }
        }
      ]
    },
    {
      "metadata": {
        "id": "5-4S-vFaSp64",
        "colab_type": "text"
      },
      "cell_type": "markdown",
      "source": [
        "### Mask and add a background image"
      ]
    },
    {
      "metadata": {
        "id": "YC2cneHcSp67",
        "colab_type": "code",
        "colab": {}
      },
      "cell_type": "code",
      "source": [
        "# Load in a background image, and convert it to RGB \n",
        "background_image = mpimg.imread('CVND_Exercises/1_1_Image_Representation/images/sky.jpg')\n",
        "\n",
        "## TODO: Crop it or resize the background to be the right size (450x660)\n",
        "\n",
        "## TODO: Mask the cropped background so that the pizza area is blocked\n",
        "# Hint mask the opposite area of the previous image\n",
        "\n",
        "## TODO: Display the background and make sure \n"
      ],
      "execution_count": 0,
      "outputs": []
    },
    {
      "metadata": {
        "id": "nn8Ta01bSp7E",
        "colab_type": "text"
      },
      "cell_type": "markdown",
      "source": [
        "### Create a complete image"
      ]
    },
    {
      "metadata": {
        "id": "hg1Axy1FSp7G",
        "colab_type": "code",
        "colab": {}
      },
      "cell_type": "code",
      "source": [
        "## TODO: Add the two images together to create a complete image!\n",
        "# complete_image = masked_image + crop_background\n",
        "\n"
      ],
      "execution_count": 0,
      "outputs": []
    },
    {
      "metadata": {
        "id": "pgG6n7PASp7N",
        "colab_type": "code",
        "colab": {}
      },
      "cell_type": "code",
      "source": [
        ""
      ],
      "execution_count": 0,
      "outputs": []
    }
  ]
}